{
 "cells": [
  {
   "cell_type": "code",
   "execution_count": 1,
   "id": "0029f8a2",
   "metadata": {},
   "outputs": [],
   "source": [
    "from transformers import BartForConditionalGeneration, BartTokenizer"
   ]
  },
  {
   "cell_type": "code",
   "execution_count": 2,
   "id": "785cd303",
   "metadata": {},
   "outputs": [
    {
     "name": "stdout",
     "output_type": "stream",
     "text": [
      "Original Document:\n",
      "\n",
      "    Adani is also among the most controversial of India’s billionaires for his association with the Bharatiya Janata Party (BJP). His close relationship with the party is not coincidental: Adani frequently refers to his business strategy as motivated by “nation building,” which the Adani Group describes on its website as “helping build world-class infrastructure capabilities to help accelerate the growth of India.” Mundra Port and its associated Adani Special Economic Zone, the central components of Adani’s business empire, were attained and developed in cooperation with the Gujarat state government. The BJP led the Gujarat state government during key moments of the Adani Group’s growth, and the relationship resulted in the symbiotic rise of both the BJP and the Adani Group.\n",
      "    \n",
      "\n",
      "Summary:\n",
      "Adani is also among the most controversial of India’s billionaires for his association with the Bharatiya Janata Party (BJP) His close relationship with the party is not coincidental. Mundra Port and its associated Adani Special Economic Zone were attained and developed in cooperation with the Gujarat state government.\n"
     ]
    }
   ],
   "source": [
    "def summarize_text_bart(document):\n",
    "    # Load pre-trained BART model and tokenizer\n",
    "    model_name = \"facebook/bart-large-cnn\"\n",
    "    model = BartForConditionalGeneration.from_pretrained(model_name)\n",
    "    tokenizer = BartTokenizer.from_pretrained(model_name)\n",
    "\n",
    "    # Tokenize and encode the document\n",
    "    inputs = tokenizer.encode(\"summarize: \" + document, return_tensors=\"pt\", max_length=1024, truncation=True)\n",
    "\n",
    "    # Generate summary\n",
    "    summary_ids = model.generate(inputs, max_length=150, min_length=50, length_penalty=2.0, num_beams=4, early_stopping=True)\n",
    "    summary = tokenizer.decode(summary_ids[0], skip_special_tokens=True)\n",
    "\n",
    "    return summary\n",
    "\n",
    "if __name__ == \"__main__\":\n",
    "    # Example document\n",
    "    input_document = \"\"\"\n",
    "    Adani is also among the most controversial of India’s billionaires for his association with the Bharatiya Janata Party (BJP). His close relationship with the party is not coincidental: Adani frequently refers to his business strategy as motivated by “nation building,” which the Adani Group describes on its website as “helping build world-class infrastructure capabilities to help accelerate the growth of India.” Mundra Port and its associated Adani Special Economic Zone, the central components of Adani’s business empire, were attained and developed in cooperation with the Gujarat state government. The BJP led the Gujarat state government during key moments of the Adani Group’s growth, and the relationship resulted in the symbiotic rise of both the BJP and the Adani Group.\n",
    "    \"\"\"\n",
    "\n",
    "    # Summarize the document\n",
    "    output_summary = summarize_text_bart(input_document)\n",
    "\n",
    "    # Print the results\n",
    "    print(\"Original Document:\")\n",
    "    print(input_document)\n",
    "    print(\"\\nSummary:\")\n",
    "    print(output_summary)"
   ]
  },
  {
   "cell_type": "code",
   "execution_count": null,
   "id": "48aba7e2",
   "metadata": {},
   "outputs": [],
   "source": []
  },
  {
   "cell_type": "code",
   "execution_count": null,
   "id": "03ab5ad0",
   "metadata": {},
   "outputs": [],
   "source": []
  },
  {
   "cell_type": "code",
   "execution_count": 3,
   "id": "ba0f5091",
   "metadata": {},
   "outputs": [],
   "source": [
    "from transformers import BigBirdPegasusForConditionalGeneration, AutoTokenizer"
   ]
  },
  {
   "cell_type": "code",
   "execution_count": 4,
   "id": "ce7a9f53",
   "metadata": {},
   "outputs": [
    {
     "name": "stdout",
     "output_type": "stream",
     "text": [
      "Original Document:\n",
      "\n",
      "    Adani is also among the most controversial of India’s billionaires for his association with the Bharatiya Janata Party (BJP). His close relationship with the party is not coincidental: Adani frequently refers to his business strategy as motivated by “nation building,” which the Adani Group describes on its website as “helping build world-class infrastructure capabilities to help accelerate the growth of India.” Mundra Port and its associated Adani Special Economic Zone, the central components of Adani’s business empire, were attained and developed in cooperation with the Gujarat state government. The BJP led the Gujarat state government during key moments of the Adani Group’s growth, and the relationship resulted in the symbiotic rise of both the BJP and the Adani Group.\n",
      "    \n",
      "\n",
      "Summary:\n",
      "[\"<s> in this paper, we address the question of whether or notdani s proposal to build a <unk> tunnel '' between the earth and the atmosphere is consistent with the laws of thermodynamics.<n> we show that thedani s proposal is inconsistent with the laws of thermodynamics.<n> we conclude that thedani s proposal is inconsistent with the laws of thermodynamics. <n>dani s proposal to build a <unk> tunnel '' between the earth and the atmosphere is in contradiction with the laws of thermodynamics.<n> this is because : ( i ) thedani s proposal is inconsistent with the laws of thermodynamics ; ( ii ) thedani s proposal is inconsistent with the principles of thermodynamics ; ( iii ) thedani s proposal is inconsistent with the principles of conservation of energy ; ( iv ) thedani s proposal does not contradict the laws of thermodynamics ; ( v ) thedani s proposal does not contradict the principles of conservation of energy ; ( vi ) thedani s proposal does not contradict the principles of conservation of energy ; ( v ) thedani s proposal does not contradict the principles of conservation of energy ; ( vi )\"]\n"
     ]
    }
   ],
   "source": [
    "tokenizer = AutoTokenizer.from_pretrained(\"google/bigbird-pegasus-large-arxiv\")\n",
    "\n",
    "# by default encoder-attention is `block_sparse` with num_random_blocks=3, block_size=64\n",
    "model = BigBirdPegasusForConditionalGeneration.from_pretrained(\"google/bigbird-pegasus-large-arxiv\")\n",
    "\n",
    "# decoder attention type can't be changed & will be \"original_full\"\n",
    "# you can change `attention_type` (encoder only) to full attention like this:\n",
    "model = BigBirdPegasusForConditionalGeneration.from_pretrained(\"google/bigbird-pegasus-large-arxiv\", attention_type=\"original_full\")\n",
    "\n",
    "# you can change `block_size` & `num_random_blocks` like this:\n",
    "model = BigBirdPegasusForConditionalGeneration.from_pretrained(\"google/bigbird-pegasus-large-arxiv\", block_size=16, num_random_blocks=2)\n",
    "\n",
    "text = \"\"\"\n",
    "    Adani is also among the most controversial of India’s billionaires for his association with the Bharatiya Janata Party (BJP). His close relationship with the party is not coincidental: Adani frequently refers to his business strategy as motivated by “nation building,” which the Adani Group describes on its website as “helping build world-class infrastructure capabilities to help accelerate the growth of India.” Mundra Port and its associated Adani Special Economic Zone, the central components of Adani’s business empire, were attained and developed in cooperation with the Gujarat state government. The BJP led the Gujarat state government during key moments of the Adani Group’s growth, and the relationship resulted in the symbiotic rise of both the BJP and the Adani Group.\n",
    "    \"\"\"\n",
    "inputs = tokenizer(text, return_tensors='pt')\n",
    "prediction = model.generate(**inputs)\n",
    "prediction = tokenizer.batch_decode(prediction)\n",
    "\n",
    "# Print the results\n",
    "\n",
    "print(\"Original Document:\")\n",
    "print(text)\n",
    "print(\"\\nSummary:\")\n",
    "print(prediction)"
   ]
  },
  {
   "cell_type": "code",
   "execution_count": null,
   "id": "7bceb345",
   "metadata": {},
   "outputs": [],
   "source": []
  },
  {
   "cell_type": "code",
   "execution_count": null,
   "id": "006c9f9b",
   "metadata": {},
   "outputs": [],
   "source": []
  },
  {
   "cell_type": "markdown",
   "id": "26069ae0",
   "metadata": {},
   "source": [
    "# BART"
   ]
  },
  {
   "cell_type": "code",
   "execution_count": 5,
   "id": "b5fddc6e",
   "metadata": {},
   "outputs": [
    {
     "name": "stderr",
     "output_type": "stream",
     "text": [
      "C:\\ProgramData\\Anaconda3\\lib\\site-packages\\scipy\\__init__.py:155: UserWarning: A NumPy version >=1.18.5 and <1.25.0 is required for this version of SciPy (detected version 1.26.3\n",
      "  warnings.warn(f\"A NumPy version >={np_minversion} and <{np_maxversion}\"\n"
     ]
    },
    {
     "name": "stdout",
     "output_type": "stream",
     "text": [
      "WARNING:tensorflow:From C:\\Users\\dobar\\AppData\\Roaming\\Python\\Python39\\site-packages\\keras\\src\\losses.py:2976: The name tf.losses.sparse_softmax_cross_entropy is deprecated. Please use tf.compat.v1.losses.sparse_softmax_cross_entropy instead.\n",
      "\n",
      "Original Document:\n",
      "\n",
      "    Adani is also among the most controversial of India’s billionaires for his association with the Bharatiya Janata Party (BJP). His close relationship with the party is not coincidental: Adani frequently refers to his business strategy as motivated by “nation building,” which the Adani Group describes on its website as “helping build world-class infrastructure capabilities to help accelerate the growth of India.” Mundra Port and its associated Adani Special Economic Zone, the central components of Adani’s business empire, were attained and developed in cooperation with the Gujarat state government. The BJP led the Gujarat state government during key moments of the Adani Group’s growth, and the relationship resulted in the symbiotic rise of both the BJP and the Adani Group.\n",
      "    \n",
      "BART Summary: Adani is among the most controversial of India’s billionaires for his association with the Bharatiya Janata Party. His close relationship with the party is not coincidental. Mundra Port and its associated Adani Special Economic Zone were attained and developed in cooperation with the Gujarat state government.\n",
      "\n",
      "\n",
      "\n",
      "\n",
      "ROUGE-1 Precision: 1.0\n",
      "ROUGE-1 Recall: 0.3821138211382114\n",
      "ROUGE-1 F1 Score: 0.5529411764705883\n",
      "\n",
      "ROUGE-2 Precision: 0.9130434782608695\n",
      "ROUGE-2 Recall: 0.3442622950819672\n",
      "ROUGE-2 F1 Score: 0.5\n",
      "\n",
      "ROUGE-L Precision: 1.0\n",
      "ROUGE-L Recall: 0.3821138211382114\n",
      "ROUGE-L F1 Score: 0.5529411764705883\n"
     ]
    }
   ],
   "source": [
    "from transformers import pipeline, BartTokenizer, BartForConditionalGeneration\n",
    "\n",
    "text = \"\"\"\n",
    "    Adani is also among the most controversial of India’s billionaires for his association with the Bharatiya Janata Party (BJP). His close relationship with the party is not coincidental: Adani frequently refers to his business strategy as motivated by “nation building,” which the Adani Group describes on its website as “helping build world-class infrastructure capabilities to help accelerate the growth of India.” Mundra Port and its associated Adani Special Economic Zone, the central components of Adani’s business empire, were attained and developed in cooperation with the Gujarat state government. The BJP led the Gujarat state government during key moments of the Adani Group’s growth, and the relationship resulted in the symbiotic rise of both the BJP and the Adani Group.\n",
    "    \"\"\"\n",
    "# Load BART model and tokenizer\n",
    "tokenizer = BartTokenizer.from_pretrained('facebook/bart-large-cnn')\n",
    "model = BartForConditionalGeneration.from_pretrained('facebook/bart-large-cnn')\n",
    "\n",
    "# Tokenize input text\n",
    "inputs = tokenizer(text, return_tensors='pt')\n",
    "\n",
    "# Generate summary\n",
    "summary_ids = model.generate(inputs['input_ids'], max_length=150, min_length=50, length_penalty=2.0, num_beams=4, early_stopping=True)\n",
    "summary = tokenizer.decode(summary_ids[0], skip_special_tokens=True)\n",
    "\n",
    "\n",
    "\n",
    "print(\"Original Document:\")\n",
    "print(text)\n",
    "print(\"BART Summary:\", summary)\n",
    "\n",
    "\n",
    "\n",
    "\n",
    "from rouge_score import rouge_scorer\n",
    "\n",
    "# Original text and generated summary\n",
    "reference_text = text\n",
    "generated_summary = summary\n",
    "\n",
    "# Calculate ROUGE scores\n",
    "scorer = rouge_scorer.RougeScorer(['rouge1', 'rouge2', 'rougeL'], use_stemmer=True)\n",
    "scores = scorer.score(reference_text, generated_summary)\n",
    "\n",
    "\n",
    "print('\\n\\n\\n')\n",
    "# Print ROUGE scores\n",
    "print(\"ROUGE-1 Precision:\", scores['rouge1'].precision)\n",
    "print(\"ROUGE-1 Recall:\", scores['rouge1'].recall)\n",
    "print(\"ROUGE-1 F1 Score:\", scores['rouge1'].fmeasure)\n",
    "\n",
    "print(\"\\nROUGE-2 Precision:\", scores['rouge2'].precision)\n",
    "print(\"ROUGE-2 Recall:\", scores['rouge2'].recall)\n",
    "print(\"ROUGE-2 F1 Score:\", scores['rouge2'].fmeasure)\n",
    "\n",
    "print(\"\\nROUGE-L Precision:\", scores['rougeL'].precision)\n",
    "print(\"ROUGE-L Recall:\", scores['rougeL'].recall)\n",
    "print(\"ROUGE-L F1 Score:\", scores['rougeL'].fmeasure)\n"
   ]
  },
  {
   "cell_type": "code",
   "execution_count": null,
   "id": "132dcf78",
   "metadata": {},
   "outputs": [],
   "source": []
  },
  {
   "cell_type": "code",
   "execution_count": null,
   "id": "f7ecf99b",
   "metadata": {},
   "outputs": [],
   "source": []
  },
  {
   "cell_type": "markdown",
   "id": "8a94ccf6",
   "metadata": {},
   "source": [
    "# T5"
   ]
  },
  {
   "cell_type": "code",
   "execution_count": 6,
   "id": "759a4d26",
   "metadata": {},
   "outputs": [
    {
     "name": "stderr",
     "output_type": "stream",
     "text": [
      "You are using the default legacy behaviour of the <class 'transformers.models.t5.tokenization_t5.T5Tokenizer'>. This is expected, and simply means that the `legacy` (previous) behavior will be used so nothing changes for you. If you want to use the new behaviour, set `legacy=False`. This should only be set if you understand what it means, and thouroughly read the reason why this was added as explained in https://github.com/huggingface/transformers/pull/24565\n",
      "Special tokens have been added in the vocabulary, make sure the associated word embeddings are fine-tuned or trained.\n"
     ]
    },
    {
     "name": "stdout",
     "output_type": "stream",
     "text": [
      "Original Document:\n",
      "\n",
      "    Adani is also among the most controversial of India’s billionaires for his association with the Bharatiya Janata Party (BJP). His close relationship with the party is not coincidental: Adani frequently refers to his business strategy as motivated by “nation building,” which the Adani Group describes on its website as “helping build world-class infrastructure capabilities to help accelerate the growth of India.” Mundra Port and its associated Adani Special Economic Zone, the central components of Adani’s business empire, were attained and developed in cooperation with the Gujarat state government. The BJP led the Gujarat state government during key moments of the Adani Group’s growth, and the relationship resulted in the symbiotic rise of both the BJP and the Adani Group.\n",
      "    \n",
      "T5 Summary: Adani is among the most controversial billionaires for his association with the Bharatiya Janata Party (BJP) he frequently refers to his business strategy as motivated by 'nation building' the BJP led the Gujarat state government during key moments of the Adani Group’s growth.\n",
      "\n",
      "\n",
      "\n",
      "\n",
      "ROUGE-1 Precision: 0.9772727272727273\n",
      "ROUGE-1 Recall: 0.34959349593495936\n",
      "ROUGE-1 F1 Score: 0.5149700598802396\n",
      "\n",
      "ROUGE-2 Precision: 0.8837209302325582\n",
      "ROUGE-2 Recall: 0.3114754098360656\n",
      "ROUGE-2 F1 Score: 0.4606060606060607\n",
      "\n",
      "ROUGE-L Precision: 0.9772727272727273\n",
      "ROUGE-L Recall: 0.34959349593495936\n",
      "ROUGE-L F1 Score: 0.5149700598802396\n"
     ]
    }
   ],
   "source": [
    "from transformers import pipeline, T5Tokenizer, T5ForConditionalGeneration\n",
    "\n",
    "text = \"\"\"\n",
    "    Adani is also among the most controversial of India’s billionaires for his association with the Bharatiya Janata Party (BJP). His close relationship with the party is not coincidental: Adani frequently refers to his business strategy as motivated by “nation building,” which the Adani Group describes on its website as “helping build world-class infrastructure capabilities to help accelerate the growth of India.” Mundra Port and its associated Adani Special Economic Zone, the central components of Adani’s business empire, were attained and developed in cooperation with the Gujarat state government. The BJP led the Gujarat state government during key moments of the Adani Group’s growth, and the relationship resulted in the symbiotic rise of both the BJP and the Adani Group.\n",
    "    \"\"\"\n",
    "# Load T5 model and tokenizer\n",
    "tokenizer = T5Tokenizer.from_pretrained('t5-small')\n",
    "model = T5ForConditionalGeneration.from_pretrained('t5-small')\n",
    "\n",
    "# Tokenize input text\n",
    "inputs = tokenizer(\"summarize: \" + text, return_tensors='pt')\n",
    "\n",
    "# Generate summary\n",
    "summary_ids = model.generate(inputs['input_ids'], max_length=150, min_length=50, length_penalty=2.0, num_beams=4, early_stopping=True)\n",
    "summary = tokenizer.decode(summary_ids[0], skip_special_tokens=True)\n",
    "\n",
    "print(\"Original Document:\")\n",
    "print(text)\n",
    "print(\"T5 Summary:\", summary)\n",
    "\n",
    "\n",
    "\n",
    "\n",
    "from rouge_score import rouge_scorer\n",
    "\n",
    "# Original text and generated summary\n",
    "reference_text = text\n",
    "generated_summary = summary\n",
    "\n",
    "# Calculate ROUGE scores\n",
    "scorer = rouge_scorer.RougeScorer(['rouge1', 'rouge2', 'rougeL'], use_stemmer=True)\n",
    "scores = scorer.score(reference_text, generated_summary)\n",
    "\n",
    "\n",
    "print('\\n\\n\\n')\n",
    "# Print ROUGE scores\n",
    "print(\"ROUGE-1 Precision:\", scores['rouge1'].precision)\n",
    "print(\"ROUGE-1 Recall:\", scores['rouge1'].recall)\n",
    "print(\"ROUGE-1 F1 Score:\", scores['rouge1'].fmeasure)\n",
    "\n",
    "print(\"\\nROUGE-2 Precision:\", scores['rouge2'].precision)\n",
    "print(\"ROUGE-2 Recall:\", scores['rouge2'].recall)\n",
    "print(\"ROUGE-2 F1 Score:\", scores['rouge2'].fmeasure)\n",
    "\n",
    "print(\"\\nROUGE-L Precision:\", scores['rougeL'].precision)\n",
    "print(\"ROUGE-L Recall:\", scores['rougeL'].recall)\n",
    "print(\"ROUGE-L F1 Score:\", scores['rougeL'].fmeasure)\n"
   ]
  },
  {
   "cell_type": "code",
   "execution_count": null,
   "id": "9e98750a",
   "metadata": {},
   "outputs": [],
   "source": []
  },
  {
   "cell_type": "code",
   "execution_count": null,
   "id": "792de8ba",
   "metadata": {},
   "outputs": [],
   "source": []
  },
  {
   "cell_type": "markdown",
   "id": "4ee53da4",
   "metadata": {},
   "source": [
    "# Pegasus"
   ]
  },
  {
   "cell_type": "code",
   "execution_count": 7,
   "id": "7b21f704",
   "metadata": {},
   "outputs": [
    {
     "name": "stderr",
     "output_type": "stream",
     "text": [
      "Some weights of PegasusForConditionalGeneration were not initialized from the model checkpoint at google/pegasus-cnn_dailymail and are newly initialized: ['model.decoder.embed_positions.weight', 'model.encoder.embed_positions.weight']\n",
      "You should probably TRAIN this model on a down-stream task to be able to use it for predictions and inference.\n"
     ]
    },
    {
     "name": "stdout",
     "output_type": "stream",
     "text": [
      "Original Document:\n",
      "\n",
      "    Adani is also among the most controversial of India’s billionaires for his association with the Bharatiya Janata Party (BJP). His close relationship with the party is not coincidental: Adani frequently refers to his business strategy as motivated by “nation building,” which the Adani Group describes on its website as “helping build world-class infrastructure capabilities to help accelerate the growth of India.” Mundra Port and its associated Adani Special Economic Zone, the central components of Adani’s business empire, were attained and developed in cooperation with the Gujarat state government. The BJP led the Gujarat state government during key moments of the Adani Group’s growth, and the relationship resulted in the symbiotic rise of both the BJP and the Adani Group.\n",
      "    \n",
      "Pegasus Summary: Adani is among the most controversial of India’s billionaires for his association with the Bharatiya Janata Party ( BJP)<n>The BJP led the Gujarat state government during key moments of the Adani Group’s growth, and the relationship resulted in the symbiotic rise of both the BJP and the Adani Group.\n",
      "\n",
      "\n",
      "\n",
      "\n",
      "ROUGE-1 Precision: 0.9807692307692307\n",
      "ROUGE-1 Recall: 0.4146341463414634\n",
      "ROUGE-1 F1 Score: 0.5828571428571429\n",
      "\n",
      "ROUGE-2 Precision: 0.9411764705882353\n",
      "ROUGE-2 Recall: 0.39344262295081966\n",
      "ROUGE-2 F1 Score: 0.5549132947976878\n",
      "\n",
      "ROUGE-L Precision: 0.9807692307692307\n",
      "ROUGE-L Recall: 0.4146341463414634\n",
      "ROUGE-L F1 Score: 0.5828571428571429\n"
     ]
    }
   ],
   "source": [
    "from transformers import pipeline, PegasusTokenizer, PegasusForConditionalGeneration\n",
    "\n",
    "text = \"\"\"\n",
    "    Adani is also among the most controversial of India’s billionaires for his association with the Bharatiya Janata Party (BJP). His close relationship with the party is not coincidental: Adani frequently refers to his business strategy as motivated by “nation building,” which the Adani Group describes on its website as “helping build world-class infrastructure capabilities to help accelerate the growth of India.” Mundra Port and its associated Adani Special Economic Zone, the central components of Adani’s business empire, were attained and developed in cooperation with the Gujarat state government. The BJP led the Gujarat state government during key moments of the Adani Group’s growth, and the relationship resulted in the symbiotic rise of both the BJP and the Adani Group.\n",
    "    \"\"\"\n",
    "# Load Pegasus model and tokenizer\n",
    "tokenizer = PegasusTokenizer.from_pretrained('google/pegasus-cnn_dailymail')\n",
    "model = PegasusForConditionalGeneration.from_pretrained('google/pegasus-cnn_dailymail')\n",
    "\n",
    "# Tokenize input text\n",
    "inputs = tokenizer(text, return_tensors='pt')\n",
    "\n",
    "# Generate summary\n",
    "summary_ids = model.generate(inputs['input_ids'], max_length=150, min_length=50, length_penalty=2.0, num_beams=4, early_stopping=True)\n",
    "summary = tokenizer.decode(summary_ids[0], skip_special_tokens=True)\n",
    "\n",
    "print(\"Original Document:\")\n",
    "print(text)\n",
    "print(\"Pegasus Summary:\", summary)\n",
    "\n",
    "\n",
    "\n",
    "from rouge_score import rouge_scorer\n",
    "\n",
    "# Original text and generated summary\n",
    "reference_text = text\n",
    "generated_summary = summary\n",
    "\n",
    "# Calculate ROUGE scores\n",
    "scorer = rouge_scorer.RougeScorer(['rouge1', 'rouge2', 'rougeL'], use_stemmer=True)\n",
    "scores = scorer.score(reference_text, generated_summary)\n",
    "\n",
    "\n",
    "print('\\n\\n\\n')\n",
    "# Print ROUGE scores\n",
    "print(\"ROUGE-1 Precision:\", scores['rouge1'].precision)\n",
    "print(\"ROUGE-1 Recall:\", scores['rouge1'].recall)\n",
    "print(\"ROUGE-1 F1 Score:\", scores['rouge1'].fmeasure)\n",
    "\n",
    "print(\"\\nROUGE-2 Precision:\", scores['rouge2'].precision)\n",
    "print(\"ROUGE-2 Recall:\", scores['rouge2'].recall)\n",
    "print(\"ROUGE-2 F1 Score:\", scores['rouge2'].fmeasure)\n",
    "\n",
    "print(\"\\nROUGE-L Precision:\", scores['rougeL'].precision)\n",
    "print(\"ROUGE-L Recall:\", scores['rougeL'].recall)\n",
    "print(\"ROUGE-L F1 Score:\", scores['rougeL'].fmeasure)\n"
   ]
  },
  {
   "cell_type": "code",
   "execution_count": null,
   "id": "5f724974",
   "metadata": {},
   "outputs": [],
   "source": []
  },
  {
   "cell_type": "code",
   "execution_count": null,
   "id": "f2cf21ea",
   "metadata": {},
   "outputs": [],
   "source": []
  }
 ],
 "metadata": {
  "kernelspec": {
   "display_name": "Python 3 (ipykernel)",
   "language": "python",
   "name": "python3"
  },
  "language_info": {
   "codemirror_mode": {
    "name": "ipython",
    "version": 3
   },
   "file_extension": ".py",
   "mimetype": "text/x-python",
   "name": "python",
   "nbconvert_exporter": "python",
   "pygments_lexer": "ipython3",
   "version": "3.9.13"
  }
 },
 "nbformat": 4,
 "nbformat_minor": 5
}

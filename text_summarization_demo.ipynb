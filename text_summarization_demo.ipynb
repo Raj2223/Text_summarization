{
 "cells": [
  {
   "cell_type": "code",
   "execution_count": 1,
   "metadata": {
    "id": "lXjxW8sDOZH4"
   },
   "outputs": [],
   "source": [
    "import spacy\n",
    "from spacy.lang.en.stop_words import STOP_WORDS\n",
    "from string import punctuation"
   ]
  },
  {
   "cell_type": "code",
   "execution_count": 2,
   "metadata": {
    "id": "Fa319fRHO4c-"
   },
   "outputs": [],
   "source": [
    "stopwords = list(STOP_WORDS)"
   ]
  },
  {
   "cell_type": "code",
   "execution_count": 3,
   "metadata": {
    "id": "SH9wZHuRPDRJ"
   },
   "outputs": [],
   "source": [
    "nlp = spacy.load('en_core_web_sm')"
   ]
  },
  {
   "cell_type": "code",
   "execution_count": 4,
   "metadata": {
    "id": "gkJPplU2PP3X"
   },
   "outputs": [],
   "source": [
    "text = \"\"\"\n",
    "In 2015, the then-head of Adani's Australian mining division came under scrutiny due to his association with a mining pollution incident in Zambia, sparking renewed concerns about Adani's suitability to manage the Carmichael coal mine. According to a collaborative report from Environmental Justice Australia, Jeyakumar Janakaraj held significant positions at a mining company that faced criminal charges related to the contamination of the Kafue River in Zambia. This occurred before he assumed leadership role of Adani's operations in Australia. Specifically, Janakaraj served as the operations director at Konkola Copper Mines in 2010, when the company faced legal charges concerning the discharge of hazardous wastewater into the river.[60] However, the Australian government characterized Adani's omission of Janakaraj's involvement in the African pollution incident as a \"mistake.\"[61] Although, under section 489 of Australia's Environmental Protection and Biodiversity Conservation Act 1999, presenting inaccurate or deceptive information could potentially constitute an offense, the federal government has opted not to pursue any legal action against Adani.\"\"\""
   ]
  },
  {
   "cell_type": "code",
   "execution_count": 5,
   "metadata": {
    "id": "XI1ojSJ9PvFZ"
   },
   "outputs": [],
   "source": [
    "doc = nlp(text)"
   ]
  },
  {
   "cell_type": "code",
   "execution_count": 6,
   "metadata": {
    "colab": {
     "base_uri": "https://localhost:8080/"
    },
    "id": "2g8TOwVUPzyy",
    "outputId": "60e50e69-ba19-4925-c607-a4c39f9ea1ff"
   },
   "outputs": [
    {
     "name": "stdout",
     "output_type": "stream",
     "text": [
      "['\\n', 'In', '2015', ',', 'the', 'then', '-', 'head', 'of', 'Adani', \"'s\", 'Australian', 'mining', 'division', 'came', 'under', 'scrutiny', 'due', 'to', 'his', 'association', 'with', 'a', 'mining', 'pollution', 'incident', 'in', 'Zambia', ',', 'sparking', 'renewed', 'concerns', 'about', 'Adani', \"'s\", 'suitability', 'to', 'manage', 'the', 'Carmichael', 'coal', 'mine', '.', 'According', 'to', 'a', 'collaborative', 'report', 'from', 'Environmental', 'Justice', 'Australia', ',', 'Jeyakumar', 'Janakaraj', 'held', 'significant', 'positions', 'at', 'a', 'mining', 'company', 'that', 'faced', 'criminal', 'charges', 'related', 'to', 'the', 'contamination', 'of', 'the', 'Kafue', 'River', 'in', 'Zambia', '.', 'This', 'occurred', 'before', 'he', 'assumed', 'leadership', 'role', 'of', 'Adani', \"'s\", 'operations', 'in', 'Australia', '.', 'Specifically', ',', 'Janakaraj', 'served', 'as', 'the', 'operations', 'director', 'at', 'Konkola', 'Copper', 'Mines', 'in', '2010', ',', 'when', 'the', 'company', 'faced', 'legal', 'charges', 'concerning', 'the', 'discharge', 'of', 'hazardous', 'wastewater', 'into', 'the', 'river.[60', ']', 'However', ',', 'the', 'Australian', 'government', 'characterized', 'Adani', \"'s\", 'omission', 'of', 'Janakaraj', \"'s\", 'involvement', 'in', 'the', 'African', 'pollution', 'incident', 'as', 'a', '\"', 'mistake', '.', '\"[61', ']', 'Although', ',', 'under', 'section', '489', 'of', 'Australia', \"'s\", 'Environmental', 'Protection', 'and', 'Biodiversity', 'Conservation', 'Act', '1999', ',', 'presenting', 'inaccurate', 'or', 'deceptive', 'information', 'could', 'potentially', 'constitute', 'an', 'offense', ',', 'the', 'federal', 'government', 'has', 'opted', 'not', 'to', 'pursue', 'any', 'legal', 'action', 'against', 'Adani', '.']\n"
     ]
    }
   ],
   "source": [
    "tokens = [token.text for token in doc]\n",
    "print(tokens)"
   ]
  },
  {
   "cell_type": "code",
   "execution_count": 7,
   "metadata": {
    "colab": {
     "base_uri": "https://localhost:8080/",
     "height": 36
    },
    "id": "5QKlWthCQFaO",
    "outputId": "a973578c-da9b-4d0f-c1b4-c138e2dbac67"
   },
   "outputs": [
    {
     "data": {
      "text/plain": [
       "'!\"#$%&\\'()*+,-./:;<=>?@[\\\\]^_`{|}~'"
      ]
     },
     "execution_count": 7,
     "metadata": {},
     "output_type": "execute_result"
    }
   ],
   "source": [
    "punctuation"
   ]
  },
  {
   "cell_type": "code",
   "execution_count": 8,
   "metadata": {
    "id": "PE_-DexfQNVg"
   },
   "outputs": [],
   "source": [
    "punctuation = punctuation + '\\n'"
   ]
  },
  {
   "cell_type": "code",
   "execution_count": 9,
   "metadata": {
    "id": "KlwaRy4gQacH"
   },
   "outputs": [],
   "source": [
    "word_frequencies = {}\n",
    "for word in doc:\n",
    "  if word.text.lower( )not in stopwords:\n",
    "    if word.text.lower() not in punctuation:\n",
    "      if word.text not in word_frequencies.keys():\n",
    "        word_frequencies[word.text] = 1\n",
    "      else:\n",
    "        word_frequencies[word.text] += 1"
   ]
  },
  {
   "cell_type": "code",
   "execution_count": 10,
   "metadata": {
    "colab": {
     "base_uri": "https://localhost:8080/"
    },
    "id": "yNDELSLkRzIM",
    "outputId": "98b6411f-106d-43a1-ff8e-f1684edf49b7"
   },
   "outputs": [
    {
     "data": {
      "text/plain": [
       "{'2015': 1,\n",
       " 'head': 1,\n",
       " 'Adani': 5,\n",
       " 'Australian': 2,\n",
       " 'mining': 3,\n",
       " 'division': 1,\n",
       " 'came': 1,\n",
       " 'scrutiny': 1,\n",
       " 'association': 1,\n",
       " 'pollution': 2,\n",
       " 'incident': 2,\n",
       " 'Zambia': 2,\n",
       " 'sparking': 1,\n",
       " 'renewed': 1,\n",
       " 'concerns': 1,\n",
       " 'suitability': 1,\n",
       " 'manage': 1,\n",
       " 'Carmichael': 1,\n",
       " 'coal': 1,\n",
       " 'According': 1,\n",
       " 'collaborative': 1,\n",
       " 'report': 1,\n",
       " 'Environmental': 2,\n",
       " 'Justice': 1,\n",
       " 'Australia': 3,\n",
       " 'Jeyakumar': 1,\n",
       " 'Janakaraj': 3,\n",
       " 'held': 1,\n",
       " 'significant': 1,\n",
       " 'positions': 1,\n",
       " 'company': 2,\n",
       " 'faced': 2,\n",
       " 'criminal': 1,\n",
       " 'charges': 2,\n",
       " 'related': 1,\n",
       " 'contamination': 1,\n",
       " 'Kafue': 1,\n",
       " 'River': 1,\n",
       " 'occurred': 1,\n",
       " 'assumed': 1,\n",
       " 'leadership': 1,\n",
       " 'role': 1,\n",
       " 'operations': 2,\n",
       " 'Specifically': 1,\n",
       " 'served': 1,\n",
       " 'director': 1,\n",
       " 'Konkola': 1,\n",
       " 'Copper': 1,\n",
       " 'Mines': 1,\n",
       " '2010': 1,\n",
       " 'legal': 2,\n",
       " 'concerning': 1,\n",
       " 'discharge': 1,\n",
       " 'hazardous': 1,\n",
       " 'wastewater': 1,\n",
       " 'river.[60': 1,\n",
       " 'government': 2,\n",
       " 'characterized': 1,\n",
       " 'omission': 1,\n",
       " 'involvement': 1,\n",
       " 'African': 1,\n",
       " 'mistake': 1,\n",
       " '\"[61': 1,\n",
       " 'section': 1,\n",
       " '489': 1,\n",
       " 'Protection': 1,\n",
       " 'Biodiversity': 1,\n",
       " 'Conservation': 1,\n",
       " 'Act': 1,\n",
       " '1999': 1,\n",
       " 'presenting': 1,\n",
       " 'inaccurate': 1,\n",
       " 'deceptive': 1,\n",
       " 'information': 1,\n",
       " 'potentially': 1,\n",
       " 'constitute': 1,\n",
       " 'offense': 1,\n",
       " 'federal': 1,\n",
       " 'opted': 1,\n",
       " 'pursue': 1,\n",
       " 'action': 1}"
      ]
     },
     "execution_count": 10,
     "metadata": {},
     "output_type": "execute_result"
    }
   ],
   "source": [
    "word_frequencies"
   ]
  },
  {
   "cell_type": "code",
   "execution_count": 11,
   "metadata": {
    "colab": {
     "base_uri": "https://localhost:8080/"
    },
    "id": "tSUSOb-3R16M",
    "outputId": "841e6ca8-ce21-451b-906c-89876c8b1ad9"
   },
   "outputs": [
    {
     "name": "stdout",
     "output_type": "stream",
     "text": [
      "{'2015': 1, 'head': 1, 'Adani': 5, 'Australian': 2, 'mining': 3, 'division': 1, 'came': 1, 'scrutiny': 1, 'association': 1, 'pollution': 2, 'incident': 2, 'Zambia': 2, 'sparking': 1, 'renewed': 1, 'concerns': 1, 'suitability': 1, 'manage': 1, 'Carmichael': 1, 'coal': 1, 'According': 1, 'collaborative': 1, 'report': 1, 'Environmental': 2, 'Justice': 1, 'Australia': 3, 'Jeyakumar': 1, 'Janakaraj': 3, 'held': 1, 'significant': 1, 'positions': 1, 'company': 2, 'faced': 2, 'criminal': 1, 'charges': 2, 'related': 1, 'contamination': 1, 'Kafue': 1, 'River': 1, 'occurred': 1, 'assumed': 1, 'leadership': 1, 'role': 1, 'operations': 2, 'Specifically': 1, 'served': 1, 'director': 1, 'Konkola': 1, 'Copper': 1, 'Mines': 1, '2010': 1, 'legal': 2, 'concerning': 1, 'discharge': 1, 'hazardous': 1, 'wastewater': 1, 'river.[60': 1, 'government': 2, 'characterized': 1, 'omission': 1, 'involvement': 1, 'African': 1, 'mistake': 1, '\"[61': 1, 'section': 1, '489': 1, 'Protection': 1, 'Biodiversity': 1, 'Conservation': 1, 'Act': 1, '1999': 1, 'presenting': 1, 'inaccurate': 1, 'deceptive': 1, 'information': 1, 'potentially': 1, 'constitute': 1, 'offense': 1, 'federal': 1, 'opted': 1, 'pursue': 1, 'action': 1}\n"
     ]
    }
   ],
   "source": [
    "print(word_frequencies)"
   ]
  },
  {
   "cell_type": "code",
   "execution_count": 12,
   "metadata": {
    "id": "5ZIKSvoDR5PC"
   },
   "outputs": [],
   "source": [
    "max_frequency = max(word_frequencies.values())"
   ]
  },
  {
   "cell_type": "code",
   "execution_count": 13,
   "metadata": {
    "colab": {
     "base_uri": "https://localhost:8080/"
    },
    "id": "loQdqX7LSGwH",
    "outputId": "98e6c165-1ffa-4464-f11e-2b317d93add8"
   },
   "outputs": [
    {
     "data": {
      "text/plain": [
       "5"
      ]
     },
     "execution_count": 13,
     "metadata": {},
     "output_type": "execute_result"
    }
   ],
   "source": [
    "max_frequency"
   ]
  },
  {
   "cell_type": "code",
   "execution_count": 14,
   "metadata": {
    "id": "BM9DrTcJSiIx"
   },
   "outputs": [],
   "source": [
    "for word in word_frequencies.keys():\n",
    "  word_frequencies[word] = word_frequencies[word]/max_frequency"
   ]
  },
  {
   "cell_type": "code",
   "execution_count": 15,
   "metadata": {
    "colab": {
     "base_uri": "https://localhost:8080/"
    },
    "id": "jHkqXBH9TQn7",
    "outputId": "bc0a80f8-8c8c-4b9c-b060-666968a219d2"
   },
   "outputs": [
    {
     "name": "stdout",
     "output_type": "stream",
     "text": [
      "{'2015': 0.2, 'head': 0.2, 'Adani': 1.0, 'Australian': 0.4, 'mining': 0.6, 'division': 0.2, 'came': 0.2, 'scrutiny': 0.2, 'association': 0.2, 'pollution': 0.4, 'incident': 0.4, 'Zambia': 0.4, 'sparking': 0.2, 'renewed': 0.2, 'concerns': 0.2, 'suitability': 0.2, 'manage': 0.2, 'Carmichael': 0.2, 'coal': 0.2, 'According': 0.2, 'collaborative': 0.2, 'report': 0.2, 'Environmental': 0.4, 'Justice': 0.2, 'Australia': 0.6, 'Jeyakumar': 0.2, 'Janakaraj': 0.6, 'held': 0.2, 'significant': 0.2, 'positions': 0.2, 'company': 0.4, 'faced': 0.4, 'criminal': 0.2, 'charges': 0.4, 'related': 0.2, 'contamination': 0.2, 'Kafue': 0.2, 'River': 0.2, 'occurred': 0.2, 'assumed': 0.2, 'leadership': 0.2, 'role': 0.2, 'operations': 0.4, 'Specifically': 0.2, 'served': 0.2, 'director': 0.2, 'Konkola': 0.2, 'Copper': 0.2, 'Mines': 0.2, '2010': 0.2, 'legal': 0.4, 'concerning': 0.2, 'discharge': 0.2, 'hazardous': 0.2, 'wastewater': 0.2, 'river.[60': 0.2, 'government': 0.4, 'characterized': 0.2, 'omission': 0.2, 'involvement': 0.2, 'African': 0.2, 'mistake': 0.2, '\"[61': 0.2, 'section': 0.2, '489': 0.2, 'Protection': 0.2, 'Biodiversity': 0.2, 'Conservation': 0.2, 'Act': 0.2, '1999': 0.2, 'presenting': 0.2, 'inaccurate': 0.2, 'deceptive': 0.2, 'information': 0.2, 'potentially': 0.2, 'constitute': 0.2, 'offense': 0.2, 'federal': 0.2, 'opted': 0.2, 'pursue': 0.2, 'action': 0.2}\n"
     ]
    }
   ],
   "source": [
    "print(word_frequencies)"
   ]
  },
  {
   "cell_type": "code",
   "execution_count": 16,
   "metadata": {
    "colab": {
     "base_uri": "https://localhost:8080/"
    },
    "id": "0WQRF6WTTWMy",
    "outputId": "1344915a-4a8f-471c-fa67-b885b189ff34"
   },
   "outputs": [
    {
     "name": "stdout",
     "output_type": "stream",
     "text": [
      "[\n",
      "In 2015, the then-head of Adani's Australian mining division came under scrutiny due to his association with a mining pollution incident in Zambia, sparking renewed concerns about Adani's suitability to manage the Carmichael coal mine., According to a collaborative report from Environmental Justice Australia, Jeyakumar Janakaraj held significant positions at a mining company that faced criminal charges related to the contamination of the Kafue River in Zambia., This occurred before he assumed leadership role of Adani's operations in Australia., Specifically, Janakaraj served as the operations director at Konkola Copper Mines in 2010, when the company faced legal charges concerning the discharge of hazardous wastewater into the river.[60] However, the Australian government characterized Adani's omission of Janakaraj's involvement in the African pollution incident as a \"mistake., \"[61], Although, under section 489 of Australia's Environmental Protection and Biodiversity Conservation Act 1999, presenting inaccurate or deceptive information could potentially constitute an offense, the federal government has opted not to pursue any legal action against Adani.]\n"
     ]
    }
   ],
   "source": [
    "sentence_tokens = [sent for sent in doc.sents]\n",
    "print(sentence_tokens)"
   ]
  },
  {
   "cell_type": "code",
   "execution_count": 17,
   "metadata": {
    "id": "TBInOD5BTy87"
   },
   "outputs": [],
   "source": [
    "sentence_scores = {}\n",
    "for sent in sentence_tokens:\n",
    "    for word in sent:\n",
    "      if word.text.lower() in word_frequencies.keys():\n",
    "        if sent not in sentence_scores.keys():\n",
    "          sentence_scores[sent]=word_frequencies[word.text.lower()]\n",
    "        else:\n",
    "          sentence_scores[sent]+= word_frequencies[word.text.lower()]"
   ]
  },
  {
   "cell_type": "code",
   "execution_count": 18,
   "metadata": {
    "colab": {
     "base_uri": "https://localhost:8080/"
    },
    "id": "T63vNGZxVdF2",
    "outputId": "93b71629-9aa1-4062-e08f-099339a21088"
   },
   "outputs": [
    {
     "data": {
      "text/plain": [
       "{\n",
       " In 2015, the then-head of Adani's Australian mining division came under scrutiny due to his association with a mining pollution incident in Zambia, sparking renewed concerns about Adani's suitability to manage the Carmichael coal mine.: 4.4,\n",
       " According to a collaborative report from Environmental Justice Australia, Jeyakumar Janakaraj held significant positions at a mining company that faced criminal charges related to the contamination of the Kafue River in Zambia.: 3.4000000000000004,\n",
       " This occurred before he assumed leadership role of Adani's operations in Australia.: 1.2000000000000002,\n",
       " Specifically, Janakaraj served as the operations director at Konkola Copper Mines in 2010, when the company faced legal charges concerning the discharge of hazardous wastewater into the river.[60] However, the Australian government characterized Adani's omission of Janakaraj's involvement in the African pollution incident as a \"mistake.: 5.600000000000002,\n",
       " \"[61]: 0.2,\n",
       " Although, under section 489 of Australia's Environmental Protection and Biodiversity Conservation Act 1999, presenting inaccurate or deceptive information could potentially constitute an offense, the federal government has opted not to pursue any legal action against Adani.: 3.6}"
      ]
     },
     "execution_count": 18,
     "metadata": {},
     "output_type": "execute_result"
    }
   ],
   "source": [
    "sentence_scores"
   ]
  },
  {
   "cell_type": "code",
   "execution_count": 19,
   "metadata": {
    "id": "TSELUIorVhtD"
   },
   "outputs": [],
   "source": [
    "from heapq import nlargest"
   ]
  },
  {
   "cell_type": "code",
   "execution_count": 20,
   "metadata": {
    "colab": {
     "base_uri": "https://localhost:8080/"
    },
    "id": "9V5KaEyZVu9m",
    "outputId": "3f7aa0f3-a2de-4a83-e342-12c164961978"
   },
   "outputs": [
    {
     "data": {
      "text/plain": [
       "1"
      ]
     },
     "execution_count": 20,
     "metadata": {},
     "output_type": "execute_result"
    }
   ],
   "source": [
    "select_length = int(len(sentence_tokens) * 0.2)\n",
    "\n",
    "select_length"
   ]
  },
  {
   "cell_type": "code",
   "execution_count": 21,
   "metadata": {
    "id": "a46cFElrWD72"
   },
   "outputs": [],
   "source": [
    "summary = nlargest(select_length,sentence_scores,key = sentence_scores.get)"
   ]
  },
  {
   "cell_type": "code",
   "execution_count": 22,
   "metadata": {
    "colab": {
     "base_uri": "https://localhost:8080/"
    },
    "id": "LJbQrfR8WX0b",
    "outputId": "9eeb2cbc-6af3-4fc0-a81b-6980c1ff9316"
   },
   "outputs": [
    {
     "data": {
      "text/plain": [
       "[Specifically, Janakaraj served as the operations director at Konkola Copper Mines in 2010, when the company faced legal charges concerning the discharge of hazardous wastewater into the river.[60] However, the Australian government characterized Adani's omission of Janakaraj's involvement in the African pollution incident as a \"mistake.]"
      ]
     },
     "execution_count": 22,
     "metadata": {},
     "output_type": "execute_result"
    }
   ],
   "source": [
    "summary"
   ]
  },
  {
   "cell_type": "code",
   "execution_count": 23,
   "metadata": {
    "id": "J7joSkf7WZ9W"
   },
   "outputs": [],
   "source": [
    "final_summary = [word.text for word in summary]"
   ]
  },
  {
   "cell_type": "code",
   "execution_count": 24,
   "metadata": {
    "colab": {
     "base_uri": "https://localhost:8080/",
     "height": 53
    },
    "id": "TqK5nA4jWrcD",
    "outputId": "ff1a8558-c0b7-4636-869d-46ccc672f27d"
   },
   "outputs": [
    {
     "data": {
      "text/plain": [
       "'Specifically, Janakaraj served as the operations director at Konkola Copper Mines in 2010, when the company faced legal charges concerning the discharge of hazardous wastewater into the river.[60] However, the Australian government characterized Adani\\'s omission of Janakaraj\\'s involvement in the African pollution incident as a \"mistake.'"
      ]
     },
     "execution_count": 24,
     "metadata": {},
     "output_type": "execute_result"
    }
   ],
   "source": [
    "summary = ''.join(final_summary)\n",
    "summary"
   ]
  },
  {
   "cell_type": "code",
   "execution_count": 25,
   "metadata": {
    "colab": {
     "base_uri": "https://localhost:8080/"
    },
    "id": "jaVMJXCyXHJw",
    "outputId": "5c0320b4-37f5-4685-8fff-7f3475ea71cb"
   },
   "outputs": [
    {
     "name": "stdout",
     "output_type": "stream",
     "text": [
      "Specifically, Janakaraj served as the operations director at Konkola Copper Mines in 2010, when the company faced legal charges concerning the discharge of hazardous wastewater into the river.[60] However, the Australian government characterized Adani's omission of Janakaraj's involvement in the African pollution incident as a \"mistake.\n"
     ]
    }
   ],
   "source": [
    "print(summary)"
   ]
  },
  {
   "cell_type": "code",
   "execution_count": 26,
   "metadata": {
    "colab": {
     "base_uri": "https://localhost:8080/"
    },
    "id": "AnBZqh6PXOcL",
    "outputId": "9636563b-6d11-4252-8224-8cde81f9bac3"
   },
   "outputs": [
    {
     "name": "stdout",
     "output_type": "stream",
     "text": [
      "\n",
      "In 2015, the then-head of Adani's Australian mining division came under scrutiny due to his association with a mining pollution incident in Zambia, sparking renewed concerns about Adani's suitability to manage the Carmichael coal mine. According to a collaborative report from Environmental Justice Australia, Jeyakumar Janakaraj held significant positions at a mining company that faced criminal charges related to the contamination of the Kafue River in Zambia. This occurred before he assumed leadership role of Adani's operations in Australia. Specifically, Janakaraj served as the operations director at Konkola Copper Mines in 2010, when the company faced legal charges concerning the discharge of hazardous wastewater into the river.[60] However, the Australian government characterized Adani's omission of Janakaraj's involvement in the African pollution incident as a \"mistake.\"[61] Although, under section 489 of Australia's Environmental Protection and Biodiversity Conservation Act 1999, presenting inaccurate or deceptive information could potentially constitute an offense, the federal government has opted not to pursue any legal action against Adani.\n"
     ]
    }
   ],
   "source": [
    "print(text)"
   ]
  },
  {
   "cell_type": "code",
   "execution_count": 27,
   "metadata": {
    "colab": {
     "base_uri": "https://localhost:8080/"
    },
    "id": "gRi-St6KXTFB",
    "outputId": "70c4596f-a8a4-4791-9f1e-145fa77323c9"
   },
   "outputs": [
    {
     "data": {
      "text/plain": [
       "1167"
      ]
     },
     "execution_count": 27,
     "metadata": {},
     "output_type": "execute_result"
    }
   ],
   "source": [
    "len(text)"
   ]
  },
  {
   "cell_type": "code",
   "execution_count": 28,
   "metadata": {
    "colab": {
     "base_uri": "https://localhost:8080/"
    },
    "id": "Qhne0D4ZXd8p",
    "outputId": "043c47f8-1246-4471-a960-ff8cecf28641"
   },
   "outputs": [
    {
     "data": {
      "text/plain": [
       "338"
      ]
     },
     "execution_count": 28,
     "metadata": {},
     "output_type": "execute_result"
    }
   ],
   "source": [
    "len(summary)"
   ]
  },
  {
   "cell_type": "code",
   "execution_count": null,
   "metadata": {
    "id": "AqRzrZEAXiFJ"
   },
   "outputs": [],
   "source": []
  }
 ],
 "metadata": {
  "colab": {
   "provenance": []
  },
  "kernelspec": {
   "display_name": "Python 3 (ipykernel)",
   "language": "python",
   "name": "python3"
  },
  "language_info": {
   "codemirror_mode": {
    "name": "ipython",
    "version": 3
   },
   "file_extension": ".py",
   "mimetype": "text/x-python",
   "name": "python",
   "nbconvert_exporter": "python",
   "pygments_lexer": "ipython3",
   "version": "3.9.13"
  }
 },
 "nbformat": 4,
 "nbformat_minor": 1
}

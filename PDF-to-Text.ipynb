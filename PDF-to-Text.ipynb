{
 "cells": [
  {
   "cell_type": "code",
   "execution_count": 1,
   "id": "5ff2c62f",
   "metadata": {},
   "outputs": [
    {
     "name": "stdout",
     "output_type": "stream",
     "text": [
      "Defaulting to user installation because normal site-packages is not writeable\n",
      "Requirement already satisfied: PyPDF2 in c:\\users\\dobar\\appdata\\roaming\\python\\python39\\site-packages (3.0.1)\n",
      "Requirement already satisfied: typing_extensions>=3.10.0.0 in c:\\users\\dobar\\appdata\\roaming\\python\\python39\\site-packages (from PyPDF2) (4.8.0)\n"
     ]
    }
   ],
   "source": [
    "!pip install PyPDF2"
   ]
  },
  {
   "cell_type": "code",
   "execution_count": 2,
   "id": "2896dcbd",
   "metadata": {},
   "outputs": [],
   "source": [
    "# Example using PyPDF2 for PDFs\n",
    "from PyPDF2 import PdfReader "
   ]
  },
  {
   "cell_type": "code",
   "execution_count": 3,
   "id": "7817ac08",
   "metadata": {},
   "outputs": [
    {
     "name": "stdout",
     "output_type": "stream",
     "text": [
      "1\n",
      "RAJ DOBARIYA \n",
      " DATA ENTHUSIAST\n",
      "+91 9687530390\n",
      "Rajkot,Gujarat,India.dobariyaraj2222@gmail.comP R O F I L E\n",
      "P R O J E C T Sh t t p s : / / g i t h u b . c o m / R a j 2 2 2 3\n",
      "w w w . l i n k e d i n . c o m / i n / d o b a r i y a - r a j\n",
      "E X P E R I E N C EE D U C A T I O N\n",
      "DIPLOMA STUDIES (IT)\n",
      "BBIT, Vvn (9.23 CGPA)\n",
      "2018-2021Parul University, Vadodara (8.3 CGPA)\n",
      "2021-2024BACHELOR OF TECHNOLOGY\n",
      "(CSE-AI)\n",
      "Harikrushna Vidyalaya, Virpur \n",
      "2017-2018SCHOOLING (S.S.C)\n",
      "Python ( AI & ML )\n",
      "Data Science\n",
      "DL & NLP\n",
      "Data Analytics\n",
      "Java\n",
      "Firebase\n",
      "Analytical Thinking\n",
      "Project ManagementS K I L L S\n",
      "C E R T I F I C A T I O N S\n",
      "Innovation Marathon 2023 \n",
      "      Finalist (SAP & GTU)\n",
      "SAP CodeUnnati ProgramI am eager to kickstart my career in the field of data-driven\n",
      "technologies. I am excited to apply my knowledge to real-world\n",
      "challenges, collaborate with experienced professionals, and make a\n",
      "meaningful impact in the field of data science, and contribute my\n",
      "technical skills to a dynamic organization.\n",
      "Roommate Bumble \n",
      "Roommate recommendations using ml to find compatible\n",
      "roommates.\n",
      "Career Recommendation System \n",
      "Career recommendations using ml to choose the best\n",
      "career choice.Automated ML Preprocessing\n",
      "It automates the preprocessing of datasets to train ml models\n",
      "with high accuracy.\n",
      "BISAG-N Internship (Dec 2023 -  Present)\n",
      "AICTE Internship (Feb 2023 -  May 2023)\n",
      "The program was conducted in collaboration with the All India\n",
      "Council for Technical Education and Edunet Foundation.\n",
      "Where we learn about IR 4.0 Technologies.\n",
      "TRAINING AT SAP (Aug 2022 -  Apr 2023)\n",
      "SAP started a special hands-on learning program CodeUnatti in\n",
      "different colleges for students, in order to train them about\n",
      "upcoming INDUSTRY 4.0 Technologies.As a data science intern, I contributing in nlp project.\n"
     ]
    }
   ],
   "source": [
    "# importing required modules \n",
    "\n",
    "# creating a pdf reader object \n",
    "reader = PdfReader('document.pdf') \n",
    "\n",
    "# printing number of pages in pdf file \n",
    "print(len(reader.pages)) \n",
    "\n",
    "# getting a specific page from the pdf file \n",
    "page = reader.pages[0] \n",
    "\n",
    "# extracting text from page \n",
    "text = page.extract_text() \n",
    "print(text) \n"
   ]
  },
  {
   "cell_type": "code",
   "execution_count": null,
   "id": "fa0a7033",
   "metadata": {},
   "outputs": [],
   "source": []
  },
  {
   "cell_type": "code",
   "execution_count": 4,
   "id": "f14bbfa8",
   "metadata": {},
   "outputs": [
    {
     "name": "stdout",
     "output_type": "stream",
     "text": [
      "Defaulting to user installation because normal site-packages is not writeable\n",
      "Collecting PyMuPDF\n",
      "  Downloading PyMuPDF-1.23.8-cp39-none-win_amd64.whl.metadata (3.4 kB)\n",
      "Collecting PyMuPDFb==1.23.7 (from PyMuPDF)\n",
      "  Downloading PyMuPDFb-1.23.7-py3-none-win_amd64.whl.metadata (1.3 kB)\n",
      "Downloading PyMuPDF-1.23.8-cp39-none-win_amd64.whl (3.5 MB)\n",
      "   ---------------------------------------- 3.5/3.5 MB 9.7 MB/s eta 0:00:00\n",
      "Downloading PyMuPDFb-1.23.7-py3-none-win_amd64.whl (24.5 MB)\n",
      "   ---------------------------------------- 24.5/24.5 MB 59.8 MB/s eta 0:00:00\n",
      "Installing collected packages: PyMuPDFb, PyMuPDF\n",
      "Successfully installed PyMuPDF-1.23.8 PyMuPDFb-1.23.7\n"
     ]
    }
   ],
   "source": [
    "!pip install PyMuPDF\n"
   ]
  },
  {
   "cell_type": "code",
   "execution_count": 6,
   "id": "5975a9fa",
   "metadata": {},
   "outputs": [
    {
     "name": "stdout",
     "output_type": "stream",
     "text": [
      "RAJ DOBARIYA \n",
      " D A T A  E N T H U S I A S T\n",
      "+91 9687530390\n",
      "Rajkot,Gujarat,India.\n",
      "dobariyaraj2222@gmail.com\n",
      "P R O F I L E\n",
      "P R O J E C T S\n",
      "https://github.com/Raj2223\n",
      "www.linkedin.com/in/dobariya-raj\n",
      "E X P E R I E N C E\n",
      "E D U C A T I O N\n",
      "DIPLOMA STUDIES (IT)\n",
      "BBIT, Vvn (9.23 CGPA)\n",
      "2018-2021\n",
      "Parul University, Vadodara (8.3 CGPA)\n",
      "2021-2024\n",
      "BACHELOR OF TECHNOLOGY\n",
      "(CSE-AI)\n",
      "Harikrushna Vidyalaya, Virpur \n",
      "2017-2018\n",
      "SCHOOLING (S.S.C)\n",
      "Python ( AI & ML )\n",
      "Data Science\n",
      "DL & NLP\n",
      "Data Analytics\n",
      "Java\n",
      "Firebase\n",
      "Analytical Thinking\n",
      "Project Management\n",
      "S K I L L S\n",
      "C E R T I F I C A T I O N S\n",
      "Innovation Marathon 2023 \n",
      "      Finalist (SAP & GTU)\n",
      "SAP CodeUnnati Program\n",
      "I am eager to kickstart my career in the field of data-driven\n",
      "technologies. I am excited to apply my knowledge to real-world\n",
      "challenges, collaborate with experienced professionals, and make a\n",
      "meaningful impact in the field of data science, and contribute my\n",
      "technical skills to a dynamic organization.\n",
      "Roommate Bumble \n",
      "Roommate recommendations using ml to find compatible\n",
      "roommates.\n",
      "Career Recommendation System \n",
      "Career recommendations using ml to choose the best\n",
      "career choice.\n",
      "Automated ML Preprocessing\n",
      "It automates the preprocessing of datasets to train ml models\n",
      "with high accuracy.\n",
      "BISAG-N Internship (Dec 2023 -  Present)\n",
      "AICTE Internship (Feb 2023 -  May 2023)\n",
      "The program was conducted in collaboration with the All India\n",
      "Council for Technical Education and Edunet Foundation.\n",
      "Where we learn about IR 4.0 Technologies.\n",
      "TRAINING AT SAP (Aug 2022 -  Apr 2023)\n",
      "SAP started a special hands-on learning program CodeUnatti in\n",
      "different colleges for students, in order to train them about\n",
      "upcoming INDUSTRY 4.0 Technologies.\n",
      "As a data science intern, I contributing in nlp project.\n",
      "\n"
     ]
    }
   ],
   "source": [
    "import fitz \n",
    "doc = fitz.open('document.pdf') \n",
    "text = \"\" \n",
    "for page in doc: \n",
    "    text+=page.get_text() \n",
    "print(text) \n"
   ]
  },
  {
   "cell_type": "code",
   "execution_count": 7,
   "id": "b3c679a2",
   "metadata": {},
   "outputs": [
    {
     "name": "stdout",
     "output_type": "stream",
     "text": [
      "C:\\ProgramData\\Anaconda3\\lib\\site-packages\\certifi\\cacert.pem\n"
     ]
    }
   ],
   "source": [
    "import certifi\n",
    "print(certifi.where())\n"
   ]
  },
  {
   "cell_type": "code",
   "execution_count": null,
   "id": "aa05be54",
   "metadata": {},
   "outputs": [],
   "source": []
  }
 ],
 "metadata": {
  "kernelspec": {
   "display_name": "Python 3 (ipykernel)",
   "language": "python",
   "name": "python3"
  },
  "language_info": {
   "codemirror_mode": {
    "name": "ipython",
    "version": 3
   },
   "file_extension": ".py",
   "mimetype": "text/x-python",
   "name": "python",
   "nbconvert_exporter": "python",
   "pygments_lexer": "ipython3",
   "version": "3.9.13"
  }
 },
 "nbformat": 4,
 "nbformat_minor": 5
}

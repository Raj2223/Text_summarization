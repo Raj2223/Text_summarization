{
 "cells": [
  {
   "cell_type": "code",
   "execution_count": 1,
   "id": "6c5ed6b9",
   "metadata": {},
   "outputs": [],
   "source": [
    "from transformers import pipeline"
   ]
  },
  {
   "cell_type": "code",
   "execution_count": 2,
   "id": "52da10ee",
   "metadata": {},
   "outputs": [
    {
     "name": "stdout",
     "output_type": "stream",
     "text": [
      "Original Text:\n",
      " Introduction\n",
      "In this article, we will go over the basics of Text Summarization, the different approaches to generating automatic summaries, some of the real world applications of Text Summarization, and finally, we will compare various Text Summarization models with the help of ROUGE, a set of metrics used to evaluate automatic Text Summarization, in Python.\n",
      "\n",
      "What is Text Summarization?\n",
      "Text Summarization is the process of shortening a long piece of text, such as an article, essay, or research paper, into a summary that conveys the overarching meaning of the text by retaining key information and leaving out the bits that are not important. There are two broad approaches when it comes to generating automatic summaries, namely:\n",
      "\n",
      "Extractive Summarization\n",
      "Abstractive Summarization\n",
      "\n",
      "Extractive Summarization\n",
      "Extractive Summarization models concatenate several relevant, information-containing sentences exactly as they are in the source material in order to create short summaries. These models do not generate any text that does not already exist in the source material. Most summarization systems used today happen to be extractive.\n",
      "\n",
      "Abstractive Summarization\n",
      "Abstractive Summarization models create summaries that convey the main information in the source material. Certain phrases and clauses may be reused from the source material, but the overall summary is generally rephrased and written in different words. Sentences in the summary may not necessarily be present in the original block of text.\n",
      "\n",
      "Abstractive Summarization models generally require more computational power. This is because they need to generate grammatically and contextually intact sentences that are relevant to the domain that is being referred to. The model has to first thoroughly understand the source material in order for it to be able to summarize it effectively and meaningfully. This is why most summarization systems used today happen to be Extractive. Extractive Summarization models only need to focus on fulfilling one objective: identifying the important sentences that need to be a part of the summary. Abstractive Summarization models have to take many more details into account before being able to generate an adequate summary.\n",
      "\n",
      "\n",
      "Generated Summary:\n",
      " Text Summarization is the process of shortening a long piece of text, such as an article, essay, or research paper. There are two broad approaches when it comes to generating automatic summaries, namely: extractive and abstractive. In this article, we will go over the basics of TextSummarization, the different approaches, and some of the real world applications. We will also compare various Text Summarisation models with the help of ROUGE, a set of metrics used to evaluate automatic Text Summaries, in Python. The goal of this article is to show how different models can be used to create different types of summaries in different situations. The end goal is to help people understand how to use TextSummaries in their daily lives and to improve their knowledge of how to make the best use of the technology they are using to create short summaries. We hope that this article will help you understand how TextSumming can help you make better use of your time.\n"
     ]
    }
   ],
   "source": [
    "# Load the summarization pipeline with a different model\n",
    "summarizer = pipeline(\"summarization\", model=\"facebook/bart-large-cnn\")\n",
    "\n",
    "# Text to be summarized\n",
    "text_to_summarize = \"\"\"Introduction\n",
    "In this article, we will go over the basics of Text Summarization, the different approaches to generating automatic summaries, some of the real world applications of Text Summarization, and finally, we will compare various Text Summarization models with the help of ROUGE, a set of metrics used to evaluate automatic Text Summarization, in Python.\n",
    "\n",
    "What is Text Summarization?\n",
    "Text Summarization is the process of shortening a long piece of text, such as an article, essay, or research paper, into a summary that conveys the overarching meaning of the text by retaining key information and leaving out the bits that are not important. There are two broad approaches when it comes to generating automatic summaries, namely:\n",
    "\n",
    "Extractive Summarization\n",
    "Abstractive Summarization\n",
    "\n",
    "Extractive Summarization\n",
    "Extractive Summarization models concatenate several relevant, information-containing sentences exactly as they are in the source material in order to create short summaries. These models do not generate any text that does not already exist in the source material. Most summarization systems used today happen to be extractive.\n",
    "\n",
    "Abstractive Summarization\n",
    "Abstractive Summarization models create summaries that convey the main information in the source material. Certain phrases and clauses may be reused from the source material, but the overall summary is generally rephrased and written in different words. Sentences in the summary may not necessarily be present in the original block of text.\n",
    "\n",
    "Abstractive Summarization models generally require more computational power. This is because they need to generate grammatically and contextually intact sentences that are relevant to the domain that is being referred to. The model has to first thoroughly understand the source material in order for it to be able to summarize it effectively and meaningfully. This is why most summarization systems used today happen to be Extractive. Extractive Summarization models only need to focus on fulfilling one objective: identifying the important sentences that need to be a part of the summary. Abstractive Summarization models have to take many more details into account before being able to generate an adequate summary.\n",
    "\"\"\"\n",
    "\n",
    "# Generate the summary\n",
    "summary = summarizer(text_to_summarize, max_length=250, min_length=200, length_penalty=2.0)[0]['summary_text']\n",
    "\n",
    "# Print the original text and the generated summary\n",
    "print(\"Original Text:\\n\", text_to_summarize)\n",
    "print(\"\\nGenerated Summary:\\n\", summary)"
   ]
  },
  {
   "cell_type": "code",
   "execution_count": null,
   "id": "f24f8846",
   "metadata": {},
   "outputs": [],
   "source": []
  }
 ],
 "metadata": {
  "kernelspec": {
   "display_name": "Python 3 (ipykernel)",
   "language": "python",
   "name": "python3"
  },
  "language_info": {
   "codemirror_mode": {
    "name": "ipython",
    "version": 3
   },
   "file_extension": ".py",
   "mimetype": "text/x-python",
   "name": "python",
   "nbconvert_exporter": "python",
   "pygments_lexer": "ipython3",
   "version": "3.9.13"
  }
 },
 "nbformat": 4,
 "nbformat_minor": 5
}

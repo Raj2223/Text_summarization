{
 "cells": [
  {
   "cell_type": "code",
   "execution_count": 1,
   "metadata": {},
   "outputs": [],
   "source": [
    "def generate_summary(input_text):\n",
    "   \n",
    "    max_input_length=10000\n",
    "    summary_ratio=0.3\n",
    "    \n",
    "    tokenizer = PegasusTokenizer.from_pretrained(\"google/pegasus-large\")\n",
    "    model = PegasusForConditionalGeneration.from_pretrained(\"google/pegasus-large\")\n",
    "   \n",
    "    if len(input_text) > max_input_length:\n",
    "        input_text = input_text[:max_input_length]\n",
    "\n",
    "    input_ids = tokenizer.encode(input_text, return_tensors=\"pt\", truncation=True)\n",
    "    max_summary_length = int(len(input_ids[0]) * summary_ratio)\n",
    "    min_length = max_summary_length - min(100, max_summary_length)\n",
    "    \n",
    "    summary_ids = model.generate(input_ids, max_length=max_summary_length, min_length=min_length, length_penalty=2.0, num_beams=4, early_stopping=True)\n",
    "    summary = tokenizer.decode(summary_ids[0], skip_special_tokens=True)\n",
    "    \n",
    "    return summary\n",
    "\n",
    "input_text = \"\"\"\n",
    "The Remarkable Career of MS Dhoni: A Journey of Excellence Mahendra Singh Dhoni, fondly known as MS Dhoni or 'Captain Cool', is a name synonymous with cricketing brilliance, leadership prowess, and unyielding determination. His remarkable journey from a small-town boy to one of the most iconic figures in the history of Indian cricket is nothing short of inspirational. Born on July 7, 1981, in Ranchi, Jharkhand, Dhoni's early life was modest yet infused with an unwavering passion for cricket. Growing up in a cricket-crazed nation, he honed his skills playing in the dusty fields of Ranchi, with dreams as vast as the Indian sky. His talent caught the eye of local coaches, and soon, Dhoni began his ascent through the ranks of domestic cricket. Dhoni's breakthrough came in 2004 when he made his international debut against Bangladesh in an ODI match. His unconventional batting style, characterized by powerful strokes and fearless aggression, immediately set him apart. But it was his ability to remain calm under pressure and his astute cricketing intelligence that truly defined him. One of Dhoni's most significant contributions to Indian cricket came when he was appointed as the captain of the Indian cricket team in 2007. Under his leadership, India achieved unprecedented success across all formats of the game. His crowning moment came in 2011 when he led the Indian team to victory in the ICC Cricket World Cup, ending a 28-year-long wait for the nation. Dhoni's captaincy was marked by innovative strategies, astute decision-making, and a unique ability to inspire his teammates. He was not just a captain; he was a mentor, a motivator, and a guiding light for the young talents in the team. His leadership style, often described as calm and composed, earned him the nickname 'Captain Cool'. In addition to his leadership prowess, Dhoni's prowess behind the stumps as a wicketkeeper was unparalleled. His lightning-fast reflexes, impeccable glove work, and sharp cricketing acumen made him one of the finest wicketkeepers in the history of the game. His adeptness in finishing matches with his batting, especially in the limited-overs formats, earned him the reputation of being one of the best finishers in world cricket. Dhoni's illustrious career is adorned with numerous accolades and records. He is the only captain to win all ICC trophies – the ICC T20 World Cup in 2007, the ICC Cricket World Cup in 2011, and the ICC Champions Trophy in 2013. His list of achievements includes multiple awards such as the ICC ODI Player of the Year (2008 and 2009), the Padma Bhushan, and the Rajiv Gandhi Khel Ratna Award. Beyond his on-field heroics, Dhoni's humility, integrity, and grace have earned him immense respect both on and off the field. He remains a role model for millions of aspiring cricketers, not just for his cricketing exploits but also for his exemplary conduct and sportsmanship. As Dhoni bid farewell to international cricket in 2020, his legacy continues to inspire generations of cricketers. His journey from a small-town boy to a global cricketing icon is a testament to the power of perseverance, dedication, and self-belief. MS Dhoni will forever hold a special place in the hearts of cricket fans worldwide, not just for his achievements but for the values he epitomizes – leadership, resilience, and the spirit of never giving up. In conclusion, the career of MS Dhoni is a shining example of excellence in cricket. His contributions to Indian cricket and the sport as a whole will be cherished for generations to come. As the sun sets on his illustrious career, MS Dhoni leaves behind a legacy that will continue to inspire cricketing enthusiasts around the globe for years to come.\n",
    "\"\"\"\n",
    "\n",
    "models = [\"google/pegasus-cnn_dailymail\", \"google/pegasus-large\", \"google/pegasus-xsum\", \"facebook/bart-large-cnn\"]\n",
    "model_names = [\"CNN/DailyMail\", \"Large\", \"XSum\", \"BART\"]\n",
    "summaries = []\n",
    "\n",
    "\n",
    "print(\"\\nGenerated Summaries:\")\n",
    "for i, model_name in enumerate(model_names):\n",
    "    print(f\"{model_name} Summary:\")\n",
    "    print(summaries[i])\n",
    "    print()\n",
    "\n",
    "\n",
    "\n"
   ]
  },
  {
   "cell_type": "code",
   "execution_count": null,
   "metadata": {},
   "outputs": [],
   "source": [
    "models = [\"google/pegasus-cnn_dailymail\", \"google/pegasus-large\", \"google/pegasus-xsum\", \"facebook/bart-large-cnn\"]\n",
    "model_names = [\"CNN/DailyMail\", \"Large\", \"XSum\", \"BART\"]\n",
    "    "
   ]
  }
 ],
 "metadata": {
  "kernelspec": {
   "display_name": "base",
   "language": "python",
   "name": "python3"
  },
  "language_info": {
   "codemirror_mode": {
    "name": "ipython",
    "version": 3
   },
   "file_extension": ".py",
   "mimetype": "text/x-python",
   "name": "python",
   "nbconvert_exporter": "python",
   "pygments_lexer": "ipython3",
   "version": "3.9.13"
  }
 },
 "nbformat": 4,
 "nbformat_minor": 2
}

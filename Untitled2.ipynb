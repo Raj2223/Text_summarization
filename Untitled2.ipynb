{
 "cells": [
  {
   "cell_type": "code",
   "execution_count": 1,
   "id": "f7855a2d",
   "metadata": {
    "scrolled": false
   },
   "outputs": [
    {
     "name": "stderr",
     "output_type": "stream",
     "text": [
      "c:\\ProgramData\\Anaconda3\\lib\\site-packages\\scipy\\__init__.py:155: UserWarning: A NumPy version >=1.18.5 and <1.25.0 is required for this version of SciPy (detected version 1.26.3\n",
      "  warnings.warn(f\"A NumPy version >={np_minversion} and <{np_maxversion}\"\n"
     ]
    },
    {
     "name": "stdout",
     "output_type": "stream",
     "text": [
      "WARNING:tensorflow:From C:\\Users\\dobar\\AppData\\Roaming\\Python\\Python39\\site-packages\\keras\\src\\losses.py:2976: The name tf.losses.sparse_softmax_cross_entropy is deprecated. Please use tf.compat.v1.losses.sparse_softmax_cross_entropy instead.\n",
      "\n"
     ]
    },
    {
     "name": "stderr",
     "output_type": "stream",
     "text": [
      "C:\\Users\\dobar\\AppData\\Local\\Temp\\ipykernel_2396\\1297030713.py:14: FutureWarning: load_metric is deprecated and will be removed in the next major version of datasets. Use 'evaluate.load' instead, from the new library 🤗 Evaluate: https://huggingface.co/docs/evaluate\n",
      "  bleu_metric = load_metric(\"sacrebleu\")\n"
     ]
    },
    {
     "name": "stdout",
     "output_type": "stream",
     "text": [
      "\n",
      "User Input:\n",
      "Adani is also among the most controversial of India’s billionaires for his association with the Bharatiya Janata Party (BJP). His close relationship with the party is not coincidental: Adani frequently refers to his business strategy as motivated by “nation building,” which the Adani Group describes on its website as “helping build world-class infrastructure capabilities to help accelerate the growth of India.” Mundra Port and its associated Adani Special Economic Zone, the central components of Adani’s business empire, were attained and developed in cooperation with the Gujarat state government. The BJP led the Gujarat state government during key moments of the Adani Group’s growth, and the relationship resulted in the symbiotic rise of both the BJP and the Adani Group.     \n",
      "\n",
      "Generated Summary (baseline):\n",
      "Adani is also among the most controversial of India’s billionaires for his association with the Bharatiya Janata Party (BJP).\n",
      "His close relationship with the party is not coincidental: Adani frequently refers to his business strategy as motivated by “nation building,” which the Adani Group describes on its website as “helping build world-class infrastructure capabilities to help accelerate the growth of India.” Mundra Port and its associated Adani Special Economic Zone, the central components of Adani’s business empire, were attained and developed in cooperation with the Gujarat state government.\n",
      "The BJP led the Gujarat state government during key moments of the Adani Group’s growth, and the relationship resulted in the symbiotic rise of both the BJP and the Adani Group.\n"
     ]
    },
    {
     "name": "stderr",
     "output_type": "stream",
     "text": [
      "Setting `pad_token_id` to `eos_token_id`:50256 for open-end generation.\n",
      "C:\\Users\\dobar\\AppData\\Roaming\\Python\\Python39\\site-packages\\transformers\\generation\\utils.py:1281: UserWarning: Input length of input_ids is 168, but `max_length` is set to 50. This can lead to unexpected behavior. You should consider increasing `max_new_tokens`.\n",
      "  warnings.warn(\n"
     ]
    },
    {
     "name": "stdout",
     "output_type": "stream",
     "text": [
      "\n",
      "Generated Summary (gpt2):\n",
      "Adani is also among the most controversial of India’s billionaires for his association with the Bharatiya Janata Party (BJP). His close relationship with the party is not coincidental: Adani frequently refers to his business strategy as motivated by “nation building,” which the Adani Group describes on its website as “helping build world-class infrastructure capabilities to help accelerate the growth of India.” Mundra Port and its associated Adani Special Economic Zone, the central components of Adani’s business empire, were attained and developed in cooperation with the Gujarat state government. The BJP led the Gujarat state government during key moments of the Adani Group’s growth, and the relationship resulted in the symbiotic rise of both the BJP and the Adani Group.      \n"
     ]
    },
    {
     "name": "stderr",
     "output_type": "stream",
     "text": [
      "Your max_length is set to 200, but your input_length is only 171. Since this is a summarization task, where outputs shorter than the input are typically wanted, you might consider decreasing max_length manually, e.g. summarizer('...', max_length=85)\n"
     ]
    },
    {
     "name": "stdout",
     "output_type": "stream",
     "text": [
      "\n",
      "Generated Summary (t5):\n",
      "Adani is among the most controversial billionaires for his association with the Bharatiya Janata Party (BJP) he frequently refers to his business strategy as motivated by “nation building” .\n",
      "\n",
      "Generated Summary (bart):\n",
      "Adani is among the most controversial of India’s billionaires for his association with the Bharatiya Janata Party. Mundra Port and its associated Adani Special Economic Zone were attained and developed in cooperation with the Gujarat state government. The relationship resulted in the symbiotic rise of both the BJP and the Adani Group.\n"
     ]
    },
    {
     "name": "stderr",
     "output_type": "stream",
     "text": [
      "Some weights of PegasusForConditionalGeneration were not initialized from the model checkpoint at google/pegasus-cnn_dailymail and are newly initialized: ['model.encoder.embed_positions.weight', 'model.decoder.embed_positions.weight']\n",
      "You should probably TRAIN this model on a down-stream task to be able to use it for predictions and inference.\n"
     ]
    },
    {
     "name": "stdout",
     "output_type": "stream",
     "text": [
      "\n",
      "Generated Summary (pegasus):\n",
      "Adani is among the most controversial of India’s billionaires for his association with the Bharatiya Janata Party ( BJP)<n>The BJP led the Gujarat state government during key moments of the Adani Group’s growth, and the relationship resulted in the symbiotic rise of both the BJP and the Adani Group .\n",
      "\n",
      "Scores for each model:\n",
      "          BLEU  rouge1  rouge2  rougeL  rougeLsum\n",
      "baseline   0.0     0.0     0.0     0.0        0.0\n",
      "gpt2       0.0     0.0     0.0     0.0        0.0\n",
      "t5         0.0     0.0     0.0     0.0        0.0\n",
      "bart       0.0     0.0     0.0     0.0        0.0\n",
      "pegasus    0.0     0.0     0.0     0.0        0.0\n"
     ]
    }
   ],
   "source": [
    "import pandas as pd\n",
    "import numpy as np\n",
    "from datasets import load_metric\n",
    "from transformers import pipeline, set_seed\n",
    "from nltk.tokenize import sent_tokenize  # Make sure to import the necessary library\n",
    "\n",
    "def baseline_summary_three_sent(text):\n",
    "    sentences = sent_tokenize(text)\n",
    "    return \"\\n\".join(sentences[:])\n",
    "\n",
    "\n",
    "def evaluate_summarization_models(models):\n",
    "    # Load BLEU metric\n",
    "    bleu_metric = load_metric(\"sacrebleu\")\n",
    "\n",
    "    # Load ROUGE metric\n",
    "    rouge_metric = load_metric(\"rouge\")\n",
    "    rouge_names = [\"rouge1\", \"rouge2\", \"rougeL\", \"rougeLsum\"]\n",
    "\n",
    "    # User input for summarization\n",
    "    user_input = input(\"Enter the text for summarization:\\n\")\n",
    "\n",
    "    # Display user input\n",
    "    print(\"\\nUser Input:\")\n",
    "    print(user_input)\n",
    "\n",
    "    # Dictionary to store BLEU and ROUGE scores for each model\n",
    "    scores_dict = {}\n",
    "\n",
    "    # Calculate and store BLEU and ROUGE scores for each model\n",
    "    for model_name, summary_func in models.items():\n",
    "        # Generate summary using the specified function\n",
    "        generated_summary = summary_func(user_input)\n",
    "\n",
    "        # Display generated summary\n",
    "        print(f\"\\nGenerated Summary ({model_name}):\")\n",
    "        print(generated_summary)\n",
    "\n",
    "        # BLEU score (without reference summary)\n",
    "        bleu_metric.add(prediction=[generated_summary], reference=[\"\"])\n",
    "        bleu_results = bleu_metric.compute(smooth_method='floor', smooth_value=0)\n",
    "        bleu_score = np.round(bleu_results['precisions'][0], 2)\n",
    "\n",
    "        # ROUGE scores (without reference summary)\n",
    "        rouge_metric.add(prediction=generated_summary, reference=\"\")\n",
    "        rouge_results = rouge_metric.compute()\n",
    "        rouge_scores = dict((rn, np.round(rouge_results[rn].mid.fmeasure, 4)) for rn in rouge_names)\n",
    "\n",
    "        # Store scores in the dictionary\n",
    "        scores_dict[model_name] = {\"BLEU\": bleu_score, **rouge_scores}\n",
    "\n",
    "    # Convert the scores dictionary to a DataFrame for better visualization\n",
    "    scores_df = pd.DataFrame.from_dict(scores_dict, orient='index')\n",
    "\n",
    "    # Display the scores DataFrame\n",
    "    print(\"\\nScores for each model:\")\n",
    "    print(scores_df)\n",
    "\n",
    "# Example usage:\n",
    "models = {\n",
    "    'baseline': baseline_summary_three_sent,\n",
    "    'gpt2': lambda x: pipeline('text-generation', model='gpt2-medium')(x, clean_up_tokenization_spaces=True)[0][\"generated_text\"],\n",
    "    't5': lambda x: pipeline('summarization', model='t5-small')(x)[0]['summary_text'],\n",
    "    'bart': lambda x: pipeline('summarization', model='facebook/bart-large-cnn')(x)[0][\"summary_text\"],\n",
    "    'pegasus': lambda x: pipeline('summarization', model='google/pegasus-cnn_dailymail')(x)[0][\"summary_text\"].replace(\" .<n>\", \".\\n\")\n",
    "}\n",
    "\n",
    "evaluate_summarization_models(models)\n"
   ]
  },
  {
   "cell_type": "code",
   "execution_count": null,
   "id": "10108d09",
   "metadata": {},
   "outputs": [],
   "source": []
  }
 ],
 "metadata": {
  "kernelspec": {
   "display_name": "Python 3 (ipykernel)",
   "language": "python",
   "name": "python3"
  },
  "language_info": {
   "codemirror_mode": {
    "name": "ipython",
    "version": 3
   },
   "file_extension": ".py",
   "mimetype": "text/x-python",
   "name": "python",
   "nbconvert_exporter": "python",
   "pygments_lexer": "ipython3",
   "version": "3.9.13"
  }
 },
 "nbformat": 4,
 "nbformat_minor": 5
}
